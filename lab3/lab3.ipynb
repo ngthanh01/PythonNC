{
 "cells": [
  {
   "cell_type": "markdown",
   "source": [
    "Chương 3\r\n",
    "Câu 1"
   ],
   "metadata": {}
  },
  {
   "cell_type": "code",
   "execution_count": 1,
   "source": [
    "filename = input('Which file would you like to back-up? ')\r\n",
    "new_filename = filename + '.bak' #tạo file backup\r\n",
    "backup = open(new_filename, 'w')\r\n",
    "for line in open(filename):\r\n",
    "    print(line)\r\n",
    "    backup.write(line)\r\n",
    "backup.close()"
   ],
   "outputs": [
    {
     "output_type": "stream",
     "name": "stdout",
     "text": [
      "Tráº§n Thanh BÃ¬nh\n",
      "\n",
      "187it14048\n",
      "\n",
      "it3\n",
      "\n"
     ]
    }
   ],
   "metadata": {}
  },
  {
   "cell_type": "markdown",
   "source": [
    "Câu 2"
   ],
   "metadata": {}
  },
  {
   "cell_type": "code",
   "execution_count": 1,
   "source": [
    "alkaline_metals = []\r\n",
    "for line in open('alkaline_metals.txt'):\r\n",
    "    alkaline_metals.append(line.strip().split(' '))\r\n",
    "print('alkaline_metals = ', alkaline_metals)"
   ],
   "outputs": [
    {
     "output_type": "stream",
     "name": "stdout",
     "text": [
      "alkaline_metals =  [['beryllium', '4', '9.012'], ['magnesium', '12', '24.305'], ['calcium', '20', '20.078'], ['strontium', '38', '87.62'], ['barium', '56', '137.327'], ['radium', '88', '226']]\n"
     ]
    }
   ],
   "metadata": {}
  },
  {
   "cell_type": "markdown",
   "source": [
    "Câu 3"
   ],
   "metadata": {}
  },
  {
   "cell_type": "code",
   "execution_count": 4,
   "source": [
    "content = []\r\n",
    "for line in open('binh.txt'):\r\n",
    "    content.append(line)\r\n",
    "print('Reverse file:\\n ',)\r\n",
    "for line in reversed(content):\r\n",
    "    print(line)"
   ],
   "outputs": [
    {
     "output_type": "stream",
     "name": "stdout",
     "text": [
      "Reverse file:\n",
      " \n",
      "7\n",
      "\n",
      "5\n",
      "\n",
      "3\n",
      "\n",
      "6\n",
      "\n",
      "#it3\n",
      "\n",
      "#187it14048\n",
      "\n",
      "#Tráº§n Thanh BÃ¬nh\n",
      "\n"
     ]
    }
   ],
   "metadata": {}
  },
  {
   "cell_type": "markdown",
   "source": [
    "câu 4"
   ],
   "metadata": {}
  },
  {
   "cell_type": "code",
   "execution_count": 6,
   "source": [
    "def skip_header(reader):\r\n",
    "    '''Skip the header in reader r, and return the first\r\n",
    "    real piece of data.'''\r\n",
    "    \r\n",
    "    # Read the description line and then the comment lines.\r\n",
    "    line = reader.readline()    \r\n",
    "    line = reader.readline()\r\n",
    "    while line.startswith('#'):\r\n",
    "        line = reader.readline() \r\n",
    "    # Now line contains the first real piece of data.\r\n",
    "    return line\r\n",
    "\r\n",
    "def process_file(reader):\r\n",
    "    '''(file open for reading) -> NoneType\r\n",
    "    Read and print the data from reader, which must start with a single\r\n",
    "    description line, then a sequence of lines beginning with '#', \r\n",
    "    then a sequence of data.\r\n",
    "    '''\r\n",
    "\r\n",
    "    # Find the first piece of data.\r\n",
    "    line = skip_header(reader).strip()\r\n",
    "    print(line)\r\n",
    "    # Read the rest of the data.\r\n",
    "    for line in reader:\r\n",
    "        line = line.strip()\r\n",
    "        print(line)\r\n",
    "\r\n",
    "input_file = open('binh.txt', 'r')\r\n",
    "process_file(input_file)\r\n",
    "input_file.close()"
   ],
   "outputs": [
    {
     "output_type": "stream",
     "name": "stdout",
     "text": [
      "6\n",
      "3\n",
      "5\n",
      "7\n"
     ]
    }
   ],
   "metadata": {}
  },
  {
   "cell_type": "markdown",
   "source": [
    "câu 5"
   ],
   "metadata": {}
  },
  {
   "cell_type": "code",
   "execution_count": 7,
   "source": [
    "def smallest_value_skip(reader):\r\n",
    "    \"\"\" (file open for reading) -> number or NoneType\r\n",
    "    Read and process reader, which must start with a time_series \r\n",
    "    header.\r\n",
    "    Return the smallest value after the header. Skip missing values, \r\n",
    "    which are indicated with a hyphen.\"\"\"\r\n",
    "    \r\n",
    "    line = skip_header(reader).strip()\r\n",
    "    # Only execute this code, if there is data following the header.\r\n",
    "    if line != '':\r\n",
    "        smallest = int(line)\r\n",
    "    for line in reader:\r\n",
    "        line = line.strip()\r\n",
    "        if line != '-':\r\n",
    "            value = int(line)\r\n",
    "            smallest = min(smallest, value)\r\n",
    "    return smallest\r\n",
    "\r\n",
    "input_file = open('binh.txt', 'r')\r\n",
    "print(smallest_value_skip(input_file))\r\n",
    "input_file.close()"
   ],
   "outputs": [
    {
     "output_type": "stream",
     "name": "stdout",
     "text": [
      "3\n"
     ]
    }
   ],
   "metadata": {}
  },
  {
   "cell_type": "markdown",
   "source": [
    "Câu 6"
   ],
   "metadata": {}
  },
  {
   "cell_type": "code",
   "execution_count": 8,
   "source": [
    "\r\n"
   ],
   "outputs": [
    {
     "output_type": "stream",
     "name": "stdout",
     "text": [
      "6\n"
     ]
    }
   ],
   "metadata": {}
  },
  {
   "cell_type": "markdown",
   "source": [
    "Câu 7"
   ],
   "metadata": {}
  },
  {
   "cell_type": "code",
   "execution_count": 9,
   "source": [
    " "
   ],
   "outputs": [
    {
     "output_type": "stream",
     "name": "stdout",
     "text": [
      "Tran Thanh Binh\n",
      "187it14048\n",
      "/*asdasdasdasdasdasds\n",
      "it3\n",
      "None\n"
     ]
    }
   ],
   "metadata": {}
  }
 ],
 "metadata": {
  "orig_nbformat": 4,
  "language_info": {
   "name": "python",
   "version": "3.8.8",
   "mimetype": "text/x-python",
   "codemirror_mode": {
    "name": "ipython",
    "version": 3
   },
   "pygments_lexer": "ipython3",
   "nbconvert_exporter": "python",
   "file_extension": ".py"
  },
  "kernelspec": {
   "name": "python3",
   "display_name": "Python 3.8.8 64-bit ('base': conda)"
  },
  "interpreter": {
   "hash": "6edcd4e5c1451bef1a77fe6d1e23e782390f81ab75b829f27e49843af96263a2"
  }
 },
 "nbformat": 4,
 "nbformat_minor": 2
}