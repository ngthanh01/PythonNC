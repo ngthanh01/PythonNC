{
 "cells": [
  {
   "cell_type": "markdown",
   "metadata": {},
   "source": [
    "Chương 3\n",
    "Câu 1"
   ]
  },
  {
   "cell_type": "code",
   "execution_count": 1,
   "metadata": {},
   "outputs": [
    {
     "name": "stdout",
     "output_type": "stream",
     "text": [
      "Tráº§n Thanh BÃ¬nh\n",
      "\n",
      "187it14048\n",
      "\n",
      "it3\n",
      "\n"
     ]
    }
   ],
   "source": [
    "filename = input('Which file would you like to back-up? ')\n",
    "new_filename = filename + '.bak' #tạo file backup\n",
    "backup = open(new_filename, 'w')\n",
    "for line in open(filename):\n",
    "    print(line)\n",
    "    backup.write(line)\n",
    "backup.close()"
   ]
  },
  {
   "cell_type": "markdown",
   "metadata": {},
   "source": [
    "Câu 2"
   ]
  },
  {
   "cell_type": "code",
   "execution_count": 1,
   "metadata": {},
   "outputs": [
    {
     "name": "stdout",
     "output_type": "stream",
     "text": [
      "alkaline_metals =  [['beryllium', '4', '9.012'], ['magnesium', '12', '24.305'], ['calcium', '20', '20.078'], ['strontium', '38', '87.62'], ['barium', '56', '137.327'], ['radium', '88', '226']]\n"
     ]
    }
   ],
   "source": [
    "alkaline_metals = []\n",
    "for line in open('alkaline_metals.txt'):\n",
    "    alkaline_metals.append(line.strip().split(' '))\n",
    "print('alkaline_metals = ', alkaline_metals)"
   ]
  },
  {
   "cell_type": "markdown",
   "metadata": {},
   "source": [
    "Câu 3"
   ]
  },
  {
   "cell_type": "code",
   "execution_count": 4,
   "metadata": {},
   "outputs": [
    {
     "name": "stdout",
     "output_type": "stream",
     "text": [
      "Reverse file:\n",
      " \n",
      "7\n",
      "\n",
      "5\n",
      "\n",
      "3\n",
      "\n",
      "6\n",
      "\n",
      "#it3\n",
      "\n",
      "#187it14048\n",
      "\n",
      "#Tráº§n Thanh BÃ¬nh\n",
      "\n"
     ]
    }
   ],
   "source": [
    "content = []\n",
    "for line in open('binh.txt'):\n",
    "    content.append(line)\n",
    "print('Reverse file:\\n ',)\n",
    "for line in reversed(content):\n",
    "    print(line)"
   ]
  },
  {
   "cell_type": "markdown",
   "metadata": {},
   "source": [
    "câu 4"
   ]
  },
  {
   "cell_type": "code",
   "execution_count": 13,
   "metadata": {},
   "outputs": [
    {
     "name": "stdout",
     "output_type": "stream",
     "text": [
      "6\n",
      "3\n",
      "5\n",
      "7\n"
     ]
    }
   ],
   "source": [
    "def skip_header(reader):\n",
    "    '''Skip the header in reader r, and return the first\n",
    "    real piece of data.'''\n",
    "    \n",
    "    # Read the description line and then the comment lines.\n",
    "    line = reader.readline()    \n",
    "    line = reader.readline()\n",
    "    while line.startswith('#'):\n",
    "        line = reader.readline() \n",
    "    # Now line contains the first real piece of data.\n",
    "    return line\n",
    "\n",
    "def process_file(reader):\n",
    "    '''(file open for reading) -> NoneType\n",
    "    Read and print the data from reader, which must start with a single\n",
    "    description line, then a sequence of lines beginning with '#', \n",
    "    then a sequence of data.\n",
    "    '''\n",
    "\n",
    "    # Find the first piece of data.\n",
    "    line = skip_header(reader).strip()\n",
    "    print(line)\n",
    "    # Read the rest of the data.\n",
    "    for line in reader:\n",
    "        line = line.strip()\n",
    "        print(line)\n",
    "\n",
    "input_file = open('binh.txt', 'r')\n",
    "process_file(input_file)\n",
    "input_file.close()"
   ]
  },
  {
   "cell_type": "markdown",
   "metadata": {},
   "source": [
    "câu 5"
   ]
  },
  {
   "cell_type": "code",
   "execution_count": 14,
   "metadata": {},
   "outputs": [
    {
     "name": "stdout",
     "output_type": "stream",
     "text": [
      "3\n"
     ]
    }
   ],
   "source": [
    "def smallest_value_skip(reader):\n",
    "    \"\"\" (file open for reading) -> number or NoneType\n",
    "    Read and process reader, which must start with a time_series \n",
    "    header.\n",
    "    Return the smallest value after the header. Skip missing values, \n",
    "    which are indicated with a hyphen.\"\"\"\n",
    "    \n",
    "    line = skip_header(reader).strip()\n",
    "    # Only execute this code, if there is data following the header.\n",
    "    if line != '':\n",
    "        smallest = int(line)\n",
    "    for line in reader:\n",
    "        line = line.strip()\n",
    "        if line != '-':\n",
    "            value = int(line)\n",
    "            smallest = min(smallest, value)\n",
    "    return smallest\n",
    "\n",
    "input_file = open('binh.txt', 'r')\n",
    "print(smallest_value_skip(input_file))\n",
    "input_file.close()"
   ]
  },
  {
   "cell_type": "markdown",
   "metadata": {},
   "source": [
    "Câu 6"
   ]
  },
  {
   "cell_type": "code",
   "execution_count": 15,
   "metadata": {},
   "outputs": [
    {
     "name": "stdout",
     "output_type": "stream",
     "text": [
      "6\n"
     ]
    }
   ],
   "source": [
    "#uses a continue inside the loop instead of an if in Cau 5\n",
    "def smallest_value_skip2(reader):\n",
    "    \"\"\" (file open for reading) -> NoneType\n",
    "    Read and process reader, which must start with a time_series header.\n",
    "    Return the smallest value after the header. Skip missing values, which\n",
    "    are indicated with a hyphen.\n",
    "    \"\"\"\n",
    "\n",
    "    line = skip_header(reader).strip()\n",
    "    # Now line contains the first data value; this is also the smallest value\n",
    "    # found so far, because it is the only one we have seen.\n",
    "    smallest = int(line)\n",
    "\n",
    "    for line in reader: \n",
    "        line = line.strip()\n",
    "        if line == '-':\n",
    "            continue\n",
    "\n",
    "    value = int(line)\n",
    "    smallest = min(smallest, value)\n",
    "\n",
    "    return smallest\n",
    "\n",
    "input_file = open('binh.txt', 'r')\n",
    "print(smallest_value_skip2(input_file))\n",
    "input_file.close()"
   ]
  },
  {
   "cell_type": "markdown",
   "metadata": {},
   "source": [
    "Câu 7"
   ]
  },
  {
   "cell_type": "code",
   "execution_count": 16,
   "metadata": {},
   "outputs": [
    {
     "name": "stdout",
     "output_type": "stream",
     "text": [
      "Tran Thanh Binh\n",
      "187it14048\n",
      "/*asdasdasdasdasdasds\n",
      "it3\n",
      "None\n"
     ]
    }
   ],
   "source": [
    " #ignores blank lines and comment lines in PDB files\n",
    "def read_molecule(reader):\n",
    "    content = []\n",
    "    for line in reader:\n",
    "        if not line.startswith('CMNT'):\n",
    "            if not line.isspace():\n",
    "                content.append(line.strip())\n",
    "    for line in content:\n",
    "        print(line)\n",
    "    \n",
    "input_file = open('filePDB.pdb', 'r')\n",
    "print(read_molecule(input_file))\n",
    "input_file.close()"
   ]
  }
 ],
 "metadata": {
  "interpreter": {
   "hash": "6edcd4e5c1451bef1a77fe6d1e23e782390f81ab75b829f27e49843af96263a2"
  },
  "kernelspec": {
   "display_name": "Python 3.8.8 64-bit ('base': conda)",
   "name": "python3"
  },
  "language_info": {
   "codemirror_mode": {
    "name": "ipython",
    "version": 3
   },
   "file_extension": ".py",
   "mimetype": "text/x-python",
   "name": "python",
   "nbconvert_exporter": "python",
   "pygments_lexer": "ipython3",
   "version": "3.8.8"
  },
  "orig_nbformat": 4
 },
 "nbformat": 4,
 "nbformat_minor": 2
}
