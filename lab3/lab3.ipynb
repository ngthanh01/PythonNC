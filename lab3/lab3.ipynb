{
 "cells": [
  {
   "cell_type": "code",
   "execution_count": 1,
   "source": [
    "filename = input('Which file would you like to back-up? ')\r\n",
    "new_filename = filename + '.bak' #tạo file backup\r\n",
    "backup = open(new_filename, 'w')\r\n",
    "for line in open(filename):\r\n",
    "    print(line)\r\n",
    "    backup.write(line)\r\n",
    "backup.close()"
   ],
   "outputs": [
    {
     "output_type": "stream",
     "name": "stdout",
     "text": [
      "Tráº§n Thanh BÃ¬nh\n",
      "\n",
      "187it14048\n",
      "\n",
      "it3\n",
      "\n"
     ]
    }
   ],
   "metadata": {}
  }
 ],
 "metadata": {
  "orig_nbformat": 4,
  "language_info": {
   "name": "python",
   "version": "3.8.8",
   "mimetype": "text/x-python",
   "codemirror_mode": {
    "name": "ipython",
    "version": 3
   },
   "pygments_lexer": "ipython3",
   "nbconvert_exporter": "python",
   "file_extension": ".py"
  },
  "kernelspec": {
   "name": "python3",
   "display_name": "Python 3.8.8 64-bit ('base': conda)"
  },
  "interpreter": {
   "hash": "6edcd4e5c1451bef1a77fe6d1e23e782390f81ab75b829f27e49843af96263a2"
  }
 },
 "nbformat": 4,
 "nbformat_minor": 2
}