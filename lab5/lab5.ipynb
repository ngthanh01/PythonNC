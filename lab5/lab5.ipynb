{
 "cells": [
  {
   "cell_type": "markdown",
   "metadata": {},
   "source": [
    "Chương 4\n",
    "câu 1"
   ]
  },
  {
   "cell_type": "code",
   "execution_count": 3,
   "metadata": {},
   "outputs": [],
   "source": [
    "class Country:\n",
    "    def __init__(self, name, population, area):\n",
    "        self.name = name\n",
    "        self.population = population\n",
    "        self.area = area\n",
    "\n",
    "    def is_larger(self, objCountry):\n",
    "                if self.area > objCountry.area:\n",
    "                    return True\n",
    "                else:\n",
    "                    return False\n",
    "    def population_desity(self):\n",
    "        return self.population/self.area\n",
    "    def __str__ (self):\n",
    "        return ('{} has a population of {} and is {} sqare km'.format(self.name, self.population, self.area))\n",
    "    def __repr__(self):\n",
    "        return (\"Country('{0}', {1}, {2})\".format(self.name, self.population, self.area))\n",
    "        \n",
    "    \n",
    "\n"
   ]
  },
  {
   "cell_type": "markdown",
   "metadata": {},
   "source": [
    "#câu a"
   ]
  },
  {
   "cell_type": "code",
   "execution_count": 4,
   "metadata": {},
   "outputs": [
    {
     "name": "stdout",
     "output_type": "stream",
     "text": [
      "Canada\n",
      "34482779\n",
      "9984670\n"
     ]
    }
   ],
   "source": [
    "canada = Country('Canada',34482779, 9984670)\n",
    "print(canada.name)\n",
    "print(canada.population)\n",
    "print(canada.area)"
   ]
  },
  {
   "cell_type": "markdown",
   "metadata": {},
   "source": [
    "Câu b"
   ]
  },
  {
   "cell_type": "code",
   "execution_count": 5,
   "metadata": {},
   "outputs": [
    {
     "name": "stdout",
     "output_type": "stream",
     "text": [
      "9826675\n",
      "True\n"
     ]
    }
   ],
   "source": [
    "usa = Country('United States of America', 313914040, 9826675)\n",
    "print(usa.area)\n",
    "print(canada.is_larger(usa))"
   ]
  },
  {
   "cell_type": "markdown",
   "metadata": {},
   "source": [
    "câu c"
   ]
  },
  {
   "cell_type": "code",
   "execution_count": 6,
   "metadata": {},
   "outputs": [
    {
     "name": "stdout",
     "output_type": "stream",
     "text": [
      "3.4535722262227995\n"
     ]
    }
   ],
   "source": [
    "print(canada.population_desity())"
   ]
  },
  {
   "cell_type": "markdown",
   "metadata": {},
   "source": [
    "câu d"
   ]
  },
  {
   "cell_type": "code",
   "execution_count": 7,
   "metadata": {},
   "outputs": [
    {
     "name": "stdout",
     "output_type": "stream",
     "text": [
      "United States of America has a population of 313914040 and is 9826675 sqare km\n"
     ]
    }
   ],
   "source": [
    "print(usa)"
   ]
  },
  {
   "cell_type": "markdown",
   "metadata": {},
   "source": [
    "câu e"
   ]
  },
  {
   "cell_type": "code",
   "execution_count": 8,
   "metadata": {},
   "outputs": [
    {
     "name": "stdout",
     "output_type": "stream",
     "text": [
      "Canada has a population of 34482779 and is 9984670 sqare km\n",
      "[Country('Canada', 34482779, 9984670)]\n"
     ]
    }
   ],
   "source": [
    "canada = Country('Canada', 34482779, 9984670)\n",
    "print(canada)\n",
    "print([canada])"
   ]
  },
  {
   "cell_type": "markdown",
   "metadata": {},
   "source": [
    "Câu 2\n"
   ]
  },
  {
   "cell_type": "code",
   "execution_count": 9,
   "metadata": {},
   "outputs": [],
   "source": [
    "class Continent(Country):\n",
    "    def __init__(self,name, countries):\n",
    "      self.name = name\n",
    "      self.countries = countries\n",
    "    def total_population(self):\n",
    "      total = 0\n",
    "      for country in north_america.countries:\n",
    "        total += country.population\n",
    "      return total\n",
    "    def america(self):\n",
    "      num = 0\n",
    "      for country in north_america.countries:\n",
    "        num+=1\n",
    "        print(country)\n",
    "      return ''"
   ]
  },
  {
   "cell_type": "markdown",
   "metadata": {},
   "source": [
    "câu a"
   ]
  },
  {
   "cell_type": "code",
   "execution_count": 13,
   "metadata": {},
   "outputs": [
    {
     "name": "stdout",
     "output_type": "stream",
     "text": [
      "Mexico has a population of 112336538 and is 1943950 sqare km\n",
      "North America\n"
     ]
    }
   ],
   "source": [
    "mexico = Country('Mexico', 112336538, 1943950)\n",
    "countries = [canada, usa, mexico]\n",
    "north_america = Continent('North America', countries)\n",
    "print(mexico)\n",
    "print(north_america.name)"
   ]
  },
  {
   "cell_type": "markdown",
   "metadata": {},
   "source": [
    "câu b"
   ]
  },
  {
   "cell_type": "code",
   "execution_count": 14,
   "metadata": {},
   "outputs": [
    {
     "name": "stdout",
     "output_type": "stream",
     "text": [
      "The total population of the three countries is :\n",
      "460733357\n"
     ]
    }
   ],
   "source": [
    "print('The total population of the three countries is :')\n",
    "print(north_america.total_population())"
   ]
  },
  {
   "cell_type": "markdown",
   "metadata": {},
   "source": [
    "câu c"
   ]
  },
  {
   "cell_type": "code",
   "execution_count": 15,
   "metadata": {},
   "outputs": [
    {
     "name": "stdout",
     "output_type": "stream",
     "text": [
      "Canada has a population of 34482779 and is 9984670 sqare km\n",
      "United States of America has a population of 313914040 and is 9826675 sqare km\n",
      "Mexico has a population of 112336538 and is 1943950 sqare km\n",
      "\n"
     ]
    }
   ],
   "source": [
    "print(north_america.america())"
   ]
  },
  {
   "cell_type": "markdown",
   "metadata": {},
   "source": [
    "câu 3"
   ]
  },
  {
   "cell_type": "code",
   "execution_count": 18,
   "metadata": {},
   "outputs": [],
   "source": [
    "class Student:\n",
    "    def __init__(self, name:str, ID: int, this_course: str, last_course: str):\n",
    "        self.name = name\n",
    "        self.ID = ID\n",
    "        self.this_course = this_course\n",
    "        self.last_course = last_course\n",
    "    def __str__(self):\n",
    "        return('-Name : {} \\n-ID : {} \\n-this_course: {} \\n-last_course: {}'.format(self.name, self.ID, self.this_course, self.last_course))"
   ]
  },
  {
   "cell_type": "code",
   "execution_count": 19,
   "metadata": {},
   "outputs": [],
   "source": [
    "class Member:\n",
    "    def __init__(self, name_courses, list_member):\n",
    "        self.name_courses = name_courses\n",
    "        self.list_member = list_member\n",
    "\n",
    "    def __repr__(self):\n",
    "        return \"Courses:{}, List_member:{}\".format(self.name_courses, self.list_member)"
   ]
  },
  {
   "cell_type": "code",
   "execution_count": 20,
   "metadata": {},
   "outputs": [],
   "source": [
    "\n",
    "class Faculty:\n",
    "    def __init__(self, name, id, email):\n",
    "        self.name = name\n",
    "        self.id = id\n",
    "        self.email = email\n",
    "    def __repr__(self):\n",
    "        return \"Courses name:{}, id:{}, email:{}\".format(self.name,self.id, self.email)"
   ]
  },
  {
   "cell_type": "code",
   "execution_count": 21,
   "metadata": {},
   "outputs": [
    {
     "name": "stdout",
     "output_type": "stream",
     "text": [
      "-Name : binh tran \n",
      "-ID : 187IT14048 \n",
      "-this_course: ['Python'] \n",
      "-last_course: ['PythonNC']\n"
     ]
    }
   ],
   "source": [
    "Student1 = Student('binh tran','187IT14048',['Python'],['PythonNC'])\n",
    "print(Student1)"
   ]
  },
  {
   "cell_type": "code",
   "execution_count": 24,
   "metadata": {},
   "outputs": [
    {
     "name": "stdout",
     "output_type": "stream",
     "text": [
      "Python\n",
      "['Binh', 'Duong', 'Lac']\n"
     ]
    }
   ],
   "source": [
    "courses = Member('Python',['Binh','Duong','Lac'])\n",
    "print(courses.name_courses)\n",
    "print(courses.list_member)"
   ]
  },
  {
   "cell_type": "code",
   "execution_count": 26,
   "metadata": {},
   "outputs": [
    {
     "name": "stdout",
     "output_type": "stream",
     "text": [
      "Courses name:Cong nghe thong tin, id:IT, email:khoa.cntt@vlu.vn\n"
     ]
    }
   ],
   "source": [
    "myFaculty = Faculty('Cong nghe thong tin','IT','khoa.cntt@vlu.vn')\n",
    "print(myFaculty)"
   ]
  },
  {
   "cell_type": "markdown",
   "metadata": {},
   "source": [
    "câu 4"
   ]
  },
  {
   "cell_type": "code",
   "execution_count": 30,
   "metadata": {},
   "outputs": [
    {
     "name": "stdout",
     "output_type": "stream",
     "text": [
      "Nematode: 1mm, gender is male, age is 5\n",
      "Nematode(1, 'male', 5)\n"
     ]
    }
   ],
   "source": [
    "class Nematode:\n",
    "    def __init__(self, length, gender, age):\n",
    "        self.length = length\n",
    "        self.gender = gender\n",
    "        self.age = age\n",
    "    def __str__(self):\n",
    "        return \"Nematode: {}mm, gender is {}, age is {}\".format(self.length, self.gender, self.age)\n",
    "    def __repr__(self):\n",
    "        return \"Nematode({}, '{}', {})\".format(self.length, self.gender, self.age)\n",
    "Celegan = Nematode(1, 'male', 5)\n",
    "print(Celegan.__str__())\n",
    "print(Celegan.__repr__())"
   ]
  },
  {
   "cell_type": "markdown",
   "metadata": {},
   "source": []
  },
  {
   "cell_type": "code",
   "execution_count": null,
   "metadata": {},
   "outputs": [],
   "source": []
  }
 ],
 "metadata": {
  "interpreter": {
   "hash": "6edcd4e5c1451bef1a77fe6d1e23e782390f81ab75b829f27e49843af96263a2"
  },
  "kernelspec": {
   "display_name": "Python 3.8.8 64-bit ('base': conda)",
   "name": "python3"
  },
  "language_info": {
   "codemirror_mode": {
    "name": "ipython",
    "version": 3
   },
   "file_extension": ".py",
   "mimetype": "text/x-python",
   "name": "python",
   "nbconvert_exporter": "python",
   "pygments_lexer": "ipython3",
   "version": "3.8.8"
  },
  "orig_nbformat": 4
 },
 "nbformat": 4,
 "nbformat_minor": 2
}
