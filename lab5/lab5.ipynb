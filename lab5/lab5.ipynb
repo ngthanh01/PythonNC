{
 "cells": [
  {
   "cell_type": "markdown",
   "metadata": {},
   "source": [
    "Chương 4\n",
    "câu 1"
   ]
  },
  {
   "cell_type": "code",
   "execution_count": 42,
   "metadata": {},
   "outputs": [],
   "source": [
    "class Country:\n",
    "    def __init__(self, name, population, area):\n",
    "        self.name = name\n",
    "        self.population = population\n",
    "        self.area = area\n",
    "\n",
    "    def is_larger(self, objCountry):\n",
    "                if self.area > objCountry.area:\n",
    "                    return True\n",
    "                else:\n",
    "                    return False\n",
    "    def population_desity(self):\n",
    "        return self.population/self.area\n",
    "\n"
   ]
  },
  {
   "cell_type": "code",
   "execution_count": 35,
   "metadata": {},
   "outputs": [
    {
     "name": "stdout",
     "output_type": "stream",
     "text": [
      "Canada\n",
      "34482779\n",
      "9984670\n"
     ]
    }
   ],
   "source": [
    "canada = Country('Canada',34482779, 9984670)\n",
    "print(canada.name)\n",
    "print(canada.population)\n",
    "print(canada.area)"
   ]
  },
  {
   "cell_type": "code",
   "execution_count": 36,
   "metadata": {},
   "outputs": [
    {
     "name": "stdout",
     "output_type": "stream",
     "text": [
      "9826675\n",
      "True\n"
     ]
    }
   ],
   "source": [
    "usa = Country('United States of America', 313914040, 9826675)\n",
    "print(usa.area)\n",
    "print(canada.is_larger(usa))"
   ]
  },
  {
   "cell_type": "code",
   "execution_count": 37,
   "metadata": {},
   "outputs": [
    {
     "name": "stdout",
     "output_type": "stream",
     "text": [
      "3.4535722262227995\n"
     ]
    }
   ],
   "source": [
    "print(canada.population_desity())"
   ]
  }
 ],
 "metadata": {
  "interpreter": {
   "hash": "6edcd4e5c1451bef1a77fe6d1e23e782390f81ab75b829f27e49843af96263a2"
  },
  "kernelspec": {
   "display_name": "Python 3.8.8 64-bit ('base': conda)",
   "name": "python3"
  },
  "language_info": {
   "codemirror_mode": {
    "name": "ipython",
    "version": 3
   },
   "file_extension": ".py",
   "mimetype": "text/x-python",
   "name": "python",
   "nbconvert_exporter": "python",
   "pygments_lexer": "ipython3",
   "version": "3.8.8"
  },
  "orig_nbformat": 4
 },
 "nbformat": 4,
 "nbformat_minor": 2
}
