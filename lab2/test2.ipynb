{
 "cells": [
  {
   "cell_type": "code",
   "execution_count": 3,
   "source": [
    "#câu 6\r\n",
    "#câu a\r\n",
    "list =  [4, 12,20,38,56,88]\r\n",
    "alkaline_earth_metals = list\r\n",
    "print(alkaline_earth_metals)"
   ],
   "outputs": [
    {
     "output_type": "stream",
     "name": "stdout",
     "text": [
      "[4, 12, 20, 38, 56, 88]\n"
     ]
    }
   ],
   "metadata": {}
  },
  {
   "cell_type": "code",
   "execution_count": 4,
   "source": [
    "#câu b\r\n",
    "print(alkaline_earth_metals[5]) \r\n",
    "print(alkaline_earth_metals[-1])"
   ],
   "outputs": [
    {
     "output_type": "stream",
     "name": "stdout",
     "text": [
      "88\n",
      "88\n"
     ]
    }
   ],
   "metadata": {}
  },
  {
   "cell_type": "code",
   "execution_count": 10,
   "source": [
    "#câu c\r\n",
    "print(len(alkaline_earth_metals))"
   ],
   "outputs": [
    {
     "output_type": "stream",
     "name": "stdout",
     "text": [
      "6\n"
     ]
    }
   ],
   "metadata": {}
  },
  {
   "cell_type": "code",
   "execution_count": 11,
   "source": [
    "#câu d\r\n",
    "print(max(alkaline_earth_metals))#tìm phần tử lớn nhất"
   ],
   "outputs": [
    {
     "output_type": "stream",
     "name": "stdout",
     "text": [
      "88\n"
     ]
    }
   ],
   "metadata": {}
  },
  {
   "cell_type": "code",
   "execution_count": 18,
   "source": [
    "#câu 7\r\n",
    "#câu a\r\n",
    "list = [25.2,16.8,31.4,23.9,28,22.5,19.6]\r\n",
    "temps=list\r\n",
    "print(temps)"
   ],
   "outputs": [
    {
     "output_type": "stream",
     "name": "stdout",
     "text": [
      "[25.2, 16.8, 31.4, 23.9, 28, 22.5, 19.6]\n"
     ]
    }
   ],
   "metadata": {}
  },
  {
   "cell_type": "code",
   "execution_count": 22,
   "source": [
    "#câu b\r\n",
    "temps.sort()\r\n",
    "print(temps)"
   ],
   "outputs": [
    {
     "output_type": "stream",
     "name": "stdout",
     "text": [
      "[16.8, 19.6, 22.5, 23.9, 25.2, 28, 31.4]\n"
     ]
    }
   ],
   "metadata": {}
  },
  {
   "cell_type": "code",
   "execution_count": 1,
   "source": [
    "def same_first_last(L) :\r\n",
    "    return L[0] == L[-1]\r\n",
    "print(same_first_last([3, 4, 2, 8, 3]))\r\n",
    "print(same_first_last(['apple', 'banana', 'pear']))\r\n",
    "print(same_first_last([4.0, 4.5]))"
   ],
   "outputs": [
    {
     "output_type": "stream",
     "name": "stdout",
     "text": [
      "True\n",
      "False\n",
      "False\n"
     ]
    }
   ],
   "metadata": {}
  },
  {
   "cell_type": "code",
   "execution_count": 4,
   "source": [
    "def is_longer(L1, L2):\r\n",
    "    return len(L1) > len(L2)\r\n",
    "print(is_longer([1, 2, 3], [4, 5]))\r\n",
    "print(is_longer(['abcdef'], ['ab', 'cd', 'ef']))\r\n",
    "print(is_longer(['a', 'b', 'c'], [1, 2, 3]))\r\n"
   ],
   "outputs": [
    {
     "output_type": "stream",
     "name": "stdout",
     "text": [
      "True\n",
      "False\n",
      "False\n"
     ]
    }
   ],
   "metadata": {}
  },
  {
   "cell_type": "code",
   "execution_count": 5,
   "source": [
    "values = [0,1,2]\r\n",
    "values[1] = values\r\n",
    "print(values)\r\n"
   ],
   "outputs": [
    {
     "output_type": "stream",
     "name": "stdout",
     "text": [
      "[0, [...], 2]\n"
     ]
    }
   ],
   "metadata": {}
  },
  {
   "cell_type": "code",
   "execution_count": 6,
   "source": [
    "list =  [['km', 'miles', 'league'], ['kg', 'pound','stone']]\r\n",
    "print(list[0])\r\n",
    "print(list[-1])\r\n",
    "print(list[0][0])\r\n",
    "print(list[1][0])\r\n",
    "print(list[0][1:3])\r\n",
    "print(list[1][0:2])\r\n"
   ],
   "outputs": [
    {
     "output_type": "stream",
     "name": "stdout",
     "text": [
      "['km', 'miles', 'league']\n",
      "['kg', 'pound', 'stone']\n",
      "km\n",
      "kg\n",
      "['miles', 'league']\n",
      "['kg', 'pound']\n"
     ]
    }
   ],
   "metadata": {}
  },
  {
   "cell_type": "code",
   "execution_count": 16,
   "source": [
    "print(list[-2])\r\n",
    "print(list[-1])\r\n",
    "print(list[-2][-3])\r\n",
    "print(list[-1][-3])\r\n",
    "print(list[-2][-2:])\r\n",
    "print(list[-1][0:-1])"
   ],
   "outputs": [
    {
     "output_type": "stream",
     "name": "stdout",
     "text": [
      "['km', 'miles', 'league']\n",
      "['kg', 'pound', 'stone']\n",
      "km\n",
      "kg\n",
      "['miles', 'league']\n",
      "['kg', 'pound']\n"
     ]
    }
   ],
   "metadata": {}
  },
  {
   "cell_type": "code",
   "execution_count": 17,
   "source": [
    "celegans_phenotypes =  ['Emb','Him', 'Unc', 'Lon', 'Dpy', 'Sma']\r\n",
    "print(celegans_phenotypes)\r\n",
    "for phenotype in celegans_phenotypes:\r\n",
    "    print(phenotype)\r\n"
   ],
   "outputs": [
    {
     "output_type": "stream",
     "name": "stdout",
     "text": [
      "['Emb', 'Him', 'Unc', 'Lon', 'Dpy', 'Sma']\n",
      "Emb\n",
      "Him\n",
      "Unc\n",
      "Lon\n",
      "Dpy\n",
      "Sma\n"
     ]
    }
   ],
   "metadata": {}
  },
  {
   "cell_type": "code",
   "execution_count": 19,
   "source": [
    "whales = [5, 4, 7, 3, 2, 3, 2, 6, 4, 2, 1, 7, 1, 3]\r\n",
    "more_whales = []\r\n",
    "for count in whales:\r\n",
    "    more_whales.append(count + 1)\r\n",
    "print(more_whales)"
   ],
   "outputs": [
    {
     "output_type": "stream",
     "name": "stdout",
     "text": [
      "[6, 5, 8, 4, 3, 4, 3, 7, 5, 3, 2, 8, 2, 4]\n"
     ]
    }
   ],
   "metadata": {}
  },
  {
   "cell_type": "code",
   "execution_count": 1,
   "source": [
    "#a\r\n",
    "list = [[4, 9.012], [12, 24.305],[20, 40.078], [38, 87.62],[56, 137.327], [88, 226]]\r\n",
    "alkaline_earth_metals = list\r\n",
    "print(alkaline_earth_metals)\r\n",
    "\r\n",
    "#b\r\n",
    "for element in alkaline_earth_metals:\r\n",
    "    print(element)\r\n",
    "number_and_weight = []\r\n",
    "for element in alkaline_earth_metals:\r\n",
    "    number_and_weight.append(element[0])\r\n",
    "    number_and_weight.append(element[1])\r\n",
    "print('number_and_weight: ', number_and_weight)\r\n"
   ],
   "outputs": [
    {
     "output_type": "stream",
     "name": "stdout",
     "text": [
      "[[4, 9.012], [12, 24.305], [20, 40.078], [38, 87.62], [56, 137.327], [88, 226]]\n",
      "[4, 9.012]\n",
      "[12, 24.305]\n",
      "[20, 40.078]\n",
      "[38, 87.62]\n",
      "[56, 137.327]\n",
      "[88, 226]\n",
      "number_and_weight:  [4, 9.012, 12, 24.305, 20, 40.078, 38, 87.62, 56, 137.327, 88, 226]\n"
     ]
    }
   ],
   "metadata": {}
  },
  {
   "cell_type": "code",
   "execution_count": 1,
   "source": [
    "#a\r\n",
    "list = [[4, 9.012], [12, 24.305],[20, 40.078], [38, 87.62],[56, 137.327], [88, 226]]\r\n",
    "alkaline_earth_metals = list\r\n",
    "print(alkaline_earth_metals)\r\n",
    "\r\n",
    "#b\r\n",
    "for element in alkaline_earth_metals:\r\n",
    "    print(element)\r\n",
    "number_and_weight = []\r\n",
    "for element in alkaline_earth_metals:\r\n",
    "    number_and_weight.append(element[0])\r\n",
    "    number_and_weight.append(element[1])\r\n",
    "print('number_and_weight: ', number_and_weight)"
   ],
   "outputs": [
    {
     "output_type": "stream",
     "name": "stdout",
     "text": [
      "[[4, 9.012], [12, 24.305], [20, 40.078], [38, 87.62], [56, 137.327], [88, 226]]\n",
      "[4, 9.012]\n",
      "[12, 24.305]\n",
      "[20, 40.078]\n",
      "[38, 87.62]\n",
      "[56, 137.327]\n",
      "[88, 226]\n",
      "number_and_weight:  [4, 9.012, 12, 24.305, 20, 40.078, 38, 87.62, 56, 137.327, 88, 226]\n"
     ]
    }
   ],
   "metadata": {}
  },
  {
   "cell_type": "code",
   "execution_count": 2,
   "source": [
    "whales = [5, 4, 7, 3, 2, 3, 2, 6, 4, 2, 1, 7, 1, 3]\r\n",
    "more_whales = []\r\n",
    "for count in whales:\r\n",
    "    more_whales.append(count + 1)\r\n",
    "print(more_whales)"
   ],
   "outputs": [
    {
     "output_type": "stream",
     "name": "stdout",
     "text": [
      "[6, 5, 8, 4, 3, 4, 3, 7, 5, 3, 2, 8, 2, 4]\n"
     ]
    }
   ],
   "metadata": {}
  }
 ],
 "metadata": {
  "orig_nbformat": 4,
  "language_info": {
   "name": "python",
   "version": "3.8.8",
   "mimetype": "text/x-python",
   "codemirror_mode": {
    "name": "ipython",
    "version": 3
   },
   "pygments_lexer": "ipython3",
   "nbconvert_exporter": "python",
   "file_extension": ".py"
  },
  "kernelspec": {
   "name": "python3",
   "display_name": "Python 3.8.8 64-bit ('base': conda)"
  },
  "interpreter": {
   "hash": "6edcd4e5c1451bef1a77fe6d1e23e782390f81ab75b829f27e49843af96263a2"
  }
 },
 "nbformat": 4,
 "nbformat_minor": 2
}