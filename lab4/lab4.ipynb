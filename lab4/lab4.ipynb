{
 "cells": [
  {
   "cell_type": "markdown",
   "metadata": {},
   "source": [
    "Câu 1"
   ]
  },
  {
   "cell_type": "code",
   "execution_count": 1,
   "metadata": {},
   "outputs": [
    {
     "data": {
      "text/plain": [
       "{1, 2}"
      ]
     },
     "execution_count": 1,
     "metadata": {},
     "output_type": "execute_result"
    }
   ],
   "source": [
    "def find_dups(L):\n",
    "  elem_set = set()\n",
    "  dups_set = set()\n",
    "  for entry in L:\n",
    "    len_initial = len(elem_set)\n",
    "    elem_set.add(entry)\n",
    "    len_after = len(elem_set)\n",
    "    if len_initial == len_after:\n",
    "      dups_set.add(entry)\n",
    "  return(dups_set)\n",
    "find_dups([1, 1, 2, 3, 4, 2])\n"
   ]
  },
  {
   "cell_type": "code",
   "execution_count": 4,
   "metadata": {},
   "outputs": [
    {
     "data": {
      "text/plain": [
       "set()"
      ]
     },
     "execution_count": 4,
     "metadata": {},
     "output_type": "execute_result"
    }
   ],
   "source": [
    "find_dups([1, 2, 3, 4])"
   ]
  },
  {
   "cell_type": "markdown",
   "metadata": {},
   "source": [
    "Câu 2"
   ]
  },
  {
   "cell_type": "code",
   "execution_count": 9,
   "metadata": {},
   "outputs": [
    {
     "data": {
      "text/plain": [
       "{('Anne', 'Bob'), ('Beatrice', 'Chen'), ('Cari', 'Ali')}"
      ]
     },
     "execution_count": 9,
     "metadata": {},
     "output_type": "execute_result"
    }
   ],
   "source": [
    "def mating_pairs(males, females):\n",
    "  pairs = set()\n",
    "  num_gerbils = len(males)\n",
    "  for i in range(num_gerbils):\n",
    "    male = males.pop()\n",
    "    female = females.pop()\n",
    "    pairs.add((male, female),)\n",
    "  return pairs\n",
    "\n",
    "mating_pairs({'Anne', 'Beatrice', 'Cari'}, {'Ali', 'Bob', 'Chen'})"
   ]
  },
  {
   "cell_type": "markdown",
   "metadata": {},
   "source": [
    "Câu 3"
   ]
  },
  {
   "cell_type": "code",
   "execution_count": 12,
   "metadata": {},
   "outputs": [
    {
     "data": {
      "text/plain": [
       "{('Dragon', 5), ('Mouse', 1), ('Tiger', 3)}"
      ]
     },
     "execution_count": 12,
     "metadata": {},
     "output_type": "execute_result"
    }
   ],
   "source": [
    "def mating_pairs(animals, nums):\n",
    "  pairs = set()\n",
    "  num_gerbils = len(animals)\n",
    "  for i in range(num_gerbils):\n",
    "    animal = animals.pop()\n",
    "    num = nums.pop()\n",
    "    pairs.add((animal, num),)\n",
    "  return pairs\n",
    "\n",
    "mating_pairs({'Mouse','Tiger','Dragon'}, {1,3,5})"
   ]
  },
  {
   "cell_type": "markdown",
   "metadata": {},
   "source": [
    "Câu 5"
   ]
  },
  {
   "cell_type": "code",
   "execution_count": 15,
   "metadata": {},
   "outputs": [
    {
     "name": "stdout",
     "output_type": "stream",
     "text": [
      "2\n"
     ]
    }
   ],
   "source": [
    "def count_values(dic):\n",
    "  fun = []\n",
    "  for key, value in dic.items():\n",
    "    fun.append(value)\n",
    "  for key, value in dic.items():\n",
    "    count = 0\n",
    "    for i in fun:\n",
    "      if i == value:\n",
    "        count = count + 1\n",
    "    if count == 1:\n",
    "      print(value)\n",
    "      \n",
    "dic = {'red': 1, 'green': 1, 'blue': 2}\n",
    "count_values(dic)"
   ]
  },
  {
   "cell_type": "markdown",
   "metadata": {},
   "source": [
    "Câu 6"
   ]
  },
  {
   "cell_type": "code",
   "execution_count": 20,
   "metadata": {},
   "outputs": [
    {
     "name": "stdout",
     "output_type": "stream",
     "text": [
      "neutron\n",
      "proton\n",
      "meson\n"
     ]
    }
   ],
   "source": [
    "def least(dic):\n",
    "    min = 999999999\n",
    "    for key, value in dic.items():\n",
    "        if value < min:\n",
    "            min = value\n",
    "            str1 = key\n",
    "        else:\n",
    "         continue\n",
    "        for key, value in dic.items():\n",
    "         if key == str1:\n",
    "            print(key)\n",
    "\n",
    "nguyentu = {'neutron': 0.55, 'proton': 0.21, 'meson': 0.03, 'muon': 0.07, 'neutrino': 0.80}\n",
    "least(nguyentu)"
   ]
  },
  {
   "cell_type": "markdown",
   "metadata": {},
   "source": [
    "Câu 7"
   ]
  },
  {
   "cell_type": "code",
   "execution_count": 21,
   "metadata": {},
   "outputs": [
    {
     "data": {
      "text/plain": [
       "2"
      ]
     },
     "execution_count": 21,
     "metadata": {},
     "output_type": "execute_result"
    }
   ],
   "source": [
    "\n",
    "def count_duplicates(dictionary):\n",
    "    duplicates = 0\n",
    "    values = list(dictionary.values())\n",
    "    for item in values:      \n",
    "        if values.count(item) >= 2:\n",
    "            duplicates = duplicates + 1     \n",
    "            num_occurrences = values.count(item)\n",
    "            for i in range(num_occurrences):\n",
    "                values.remove(item)\n",
    "\n",
    "    return duplicates\n",
    "count_duplicates({'A': 1, 'B': 2, 'C': 2, 'D': 1, 'E': 3})"
   ]
  },
  {
   "cell_type": "markdown",
   "metadata": {},
   "source": [
    "Câu 8"
   ]
  },
  {
   "cell_type": "code",
   "execution_count": 22,
   "metadata": {},
   "outputs": [
    {
     "data": {
      "text/plain": [
       "False"
      ]
     },
     "execution_count": 22,
     "metadata": {},
     "output_type": "execute_result"
    }
   ],
   "source": [
    "\n",
    "def is_balanced(dic):\n",
    "  balanced=0\n",
    "  for key, value in dic.items():\n",
    "    balanced += value\n",
    "  if balanced == 1:\n",
    "    return True\n",
    "  else:\n",
    "    return False\n",
    "color = {'R':0.3,'G':0.3,'B':0.2}\n",
    "is_balanced(color)"
   ]
  },
  {
   "cell_type": "markdown",
   "metadata": {},
   "source": [
    "Câu 9"
   ]
  },
  {
   "cell_type": "code",
   "execution_count": 25,
   "metadata": {},
   "outputs": [
    {
     "data": {
      "text/plain": [
       "{'red': 1, 'blue': 2}"
      ]
     },
     "execution_count": 25,
     "metadata": {},
     "output_type": "execute_result"
    }
   ],
   "source": [
    "def dict_intersect(dic1,dic2):\n",
    "  dic3 = {}\n",
    "  for key, value in dic1.items():\n",
    "    for key1, value1 in dic2.items():\n",
    "      if ((key == key1) and (value ==value1)):\n",
    "        dic3[key] = value\n",
    "  return dic3\n",
    "dic1 = {'red': 1, 'green': 1, 'blue': 2}\n",
    "dic2 = {'red': 1, 'green': 5, 'blue': 2, 'black': 4}\n",
    "dict_intersect(dic1,dic2)"
   ]
  },
  {
   "cell_type": "markdown",
   "metadata": {},
   "source": [
    "Câu 12"
   ]
  },
  {
   "cell_type": "code",
   "execution_count": 26,
   "metadata": {},
   "outputs": [
    {
     "data": {
      "text/plain": [
       "{1: 3, 2: 7, 3: 9, 4: 6}"
      ]
     },
     "execution_count": 26,
     "metadata": {},
     "output_type": "execute_result"
    }
   ],
   "source": [
    "def sparse_add(vector_a, vector_b):\n",
    "  sum = vector_a.copy()\n",
    "  for key in vector_b:\n",
    "    if key in sum:\n",
    "      sum[key] = sum[key] + vector_b[key]\n",
    "    else:\n",
    "      sum[key] = vector_b[key]\n",
    "\n",
    "  return sum\n",
    "sparse_add({1: 3, 2: 3, 3: 4}, {2: 4, 3: 5, 4: 6})"
   ]
  },
  {
   "cell_type": "code",
   "execution_count": 27,
   "metadata": {},
   "outputs": [
    {
     "data": {
      "text/plain": [
       "32"
      ]
     },
     "execution_count": 27,
     "metadata": {},
     "output_type": "execute_result"
    }
   ],
   "source": [
    "def sparse_dot(vector_a, vector_b):\n",
    "    multiplication = 0\n",
    "    for key1 in vector_a:\n",
    "        if key1 in vector_b:\n",
    "            multiplication = multiplication + vector_a[key1] * vector_b[key1]\n",
    "    return multiplication\n",
    "sparse_dot({1: 3, 2: 3, 3: 4}, {2: 4, 3: 5, 4: 6})"
   ]
  }
 ],
 "metadata": {
  "interpreter": {
   "hash": "6edcd4e5c1451bef1a77fe6d1e23e782390f81ab75b829f27e49843af96263a2"
  },
  "kernelspec": {
   "display_name": "Python 3.8.8 64-bit ('base': conda)",
   "name": "python3"
  },
  "language_info": {
   "codemirror_mode": {
    "name": "ipython",
    "version": 3
   },
   "file_extension": ".py",
   "mimetype": "text/x-python",
   "name": "python",
   "nbconvert_exporter": "python",
   "pygments_lexer": "ipython3",
   "version": "3.8.8"
  },
  "orig_nbformat": 4
 },
 "nbformat": 4,
 "nbformat_minor": 2
}
