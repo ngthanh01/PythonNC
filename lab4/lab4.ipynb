{
 "cells": [
  {
   "cell_type": "markdown",
   "source": [
    "Câu 1"
   ],
   "metadata": {}
  },
  {
   "cell_type": "code",
   "execution_count": 3,
   "source": [
    "def find_dups(L):\r\n",
    "  elem_set = set()\r\n",
    "  dups_set = set()\r\n",
    "  for entry in L:\r\n",
    "    len_initial = len(elem_set)\r\n",
    "    elem_set.add(entry)\r\n",
    "    len_after = len(elem_set)\r\n",
    "    if len_initial == len_after:\r\n",
    "      dups_set.add(entry)\r\n",
    "  return(dups_set)\r\n",
    "find_dups([1, 1, 2, 3, 4, 2])\r\n"
   ],
   "outputs": [
    {
     "output_type": "execute_result",
     "data": {
      "text/plain": [
       "{1, 2}"
      ]
     },
     "metadata": {},
     "execution_count": 3
    }
   ],
   "metadata": {}
  },
  {
   "cell_type": "code",
   "execution_count": 4,
   "source": [
    "find_dups([1, 2, 3, 4])"
   ],
   "outputs": [
    {
     "output_type": "execute_result",
     "data": {
      "text/plain": [
       "set()"
      ]
     },
     "metadata": {},
     "execution_count": 4
    }
   ],
   "metadata": {}
  },
  {
   "cell_type": "markdown",
   "source": [
    "Câu 2"
   ],
   "metadata": {}
  },
  {
   "cell_type": "code",
   "execution_count": 9,
   "source": [
    "def mating_pairs(males, females):\r\n",
    "  pairs = set()\r\n",
    "  num_gerbils = len(males)\r\n",
    "  for i in range(num_gerbils):\r\n",
    "    male = males.pop()\r\n",
    "    female = females.pop()\r\n",
    "    pairs.add((male, female),)\r\n",
    "  return pairs\r\n",
    "\r\n",
    "mating_pairs({'Anne', 'Beatrice', 'Cari'}, {'Ali', 'Bob', 'Chen'})"
   ],
   "outputs": [
    {
     "output_type": "execute_result",
     "data": {
      "text/plain": [
       "{('Anne', 'Bob'), ('Beatrice', 'Chen'), ('Cari', 'Ali')}"
      ]
     },
     "metadata": {},
     "execution_count": 9
    }
   ],
   "metadata": {}
  },
  {
   "cell_type": "markdown",
   "source": [
    "Câu 3"
   ],
   "metadata": {}
  },
  {
   "cell_type": "code",
   "execution_count": 12,
   "source": [
    "def mating_pairs(animals, nums):\r\n",
    "  pairs = set()\r\n",
    "  num_gerbils = len(animals)\r\n",
    "  for i in range(num_gerbils):\r\n",
    "    animal = animals.pop()\r\n",
    "    num = nums.pop()\r\n",
    "    pairs.add((animal, num),)\r\n",
    "  return pairs\r\n",
    "\r\n",
    "mating_pairs({'Mouse','Tiger','Dragon'}, {1,3,5})"
   ],
   "outputs": [
    {
     "output_type": "execute_result",
     "data": {
      "text/plain": [
       "{('Dragon', 5), ('Mouse', 1), ('Tiger', 3)}"
      ]
     },
     "metadata": {},
     "execution_count": 12
    }
   ],
   "metadata": {}
  },
  {
   "cell_type": "markdown",
   "source": [
    "Câu 5"
   ],
   "metadata": {}
  },
  {
   "cell_type": "code",
   "execution_count": 15,
   "source": [
    "def count_values(dic):\r\n",
    "  fun = []\r\n",
    "  for key, value in dic.items():\r\n",
    "    fun.append(value)\r\n",
    "  for key, value in dic.items():\r\n",
    "    count = 0\r\n",
    "    for i in fun:\r\n",
    "      if i == value:\r\n",
    "        count = count + 1\r\n",
    "    if count == 1:\r\n",
    "      print(value)\r\n",
    "      \r\n",
    "dic = {'red': 1, 'green': 1, 'blue': 2}\r\n",
    "count_values(dic)"
   ],
   "outputs": [
    {
     "output_type": "stream",
     "name": "stdout",
     "text": [
      "2\n"
     ]
    }
   ],
   "metadata": {}
  },
  {
   "cell_type": "markdown",
   "source": [
    "Câu 6"
   ],
   "metadata": {}
  },
  {
   "cell_type": "code",
   "execution_count": 20,
   "source": [
    "def least(dic):\r\n",
    "    min = 999999999\r\n",
    "    for key, value in dic.items():\r\n",
    "        if value < min:\r\n",
    "            min = value\r\n",
    "            str1 = key\r\n",
    "        else:\r\n",
    "         continue\r\n",
    "        for key, value in dic.items():\r\n",
    "         if key == str1:\r\n",
    "            print(key)\r\n",
    "\r\n",
    "nguyentu = {'neutron': 0.55, 'proton': 0.21, 'meson': 0.03, 'muon': 0.07, 'neutrino': 0.80}\r\n",
    "least(nguyentu)"
   ],
   "outputs": [
    {
     "output_type": "stream",
     "name": "stdout",
     "text": [
      "neutron\n",
      "proton\n",
      "meson\n"
     ]
    }
   ],
   "metadata": {}
  },
  {
   "cell_type": "markdown",
   "source": [
    "Câu 7"
   ],
   "metadata": {}
  },
  {
   "cell_type": "code",
   "execution_count": 21,
   "source": [
    "\r\n",
    "def count_duplicates(dictionary):\r\n",
    "    duplicates = 0\r\n",
    "    values = list(dictionary.values())\r\n",
    "    for item in values:      \r\n",
    "        if values.count(item) >= 2:\r\n",
    "            duplicates = duplicates + 1     \r\n",
    "            num_occurrences = values.count(item)\r\n",
    "            for i in range(num_occurrences):\r\n",
    "                values.remove(item)\r\n",
    "\r\n",
    "    return duplicates\r\n",
    "count_duplicates({'A': 1, 'B': 2, 'C': 2, 'D': 1, 'E': 3})"
   ],
   "outputs": [
    {
     "output_type": "execute_result",
     "data": {
      "text/plain": [
       "2"
      ]
     },
     "metadata": {},
     "execution_count": 21
    }
   ],
   "metadata": {}
  },
  {
   "cell_type": "markdown",
   "source": [
    "Câu 8"
   ],
   "metadata": {}
  },
  {
   "cell_type": "code",
   "execution_count": 22,
   "source": [
    "\r\n",
    "def is_balanced(dic):\r\n",
    "  balanced=0\r\n",
    "  for key, value in dic.items():\r\n",
    "    balanced += value\r\n",
    "  if balanced == 1:\r\n",
    "    return True\r\n",
    "  else:\r\n",
    "    return False\r\n",
    "color = {'R':0.3,'G':0.3,'B':0.2}\r\n",
    "is_balanced(color)"
   ],
   "outputs": [
    {
     "output_type": "execute_result",
     "data": {
      "text/plain": [
       "False"
      ]
     },
     "metadata": {},
     "execution_count": 22
    }
   ],
   "metadata": {}
  },
  {
   "cell_type": "markdown",
   "source": [
    "Câu 9"
   ],
   "metadata": {}
  },
  {
   "cell_type": "code",
   "execution_count": 25,
   "source": [
    "def dict_intersect(dic1,dic2):\r\n",
    "  dic3 = {}\r\n",
    "  for key, value in dic1.items():\r\n",
    "    for key1, value1 in dic2.items():\r\n",
    "      if ((key == key1) and (value ==value1)):\r\n",
    "        dic3[key] = value\r\n",
    "  return dic3\r\n",
    "dic1 = {'red': 1, 'green': 1, 'blue': 2}\r\n",
    "dic2 = {'red': 1, 'green': 5, 'blue': 2, 'black': 4}\r\n",
    "dict_intersect(dic1,dic2)"
   ],
   "outputs": [
    {
     "output_type": "execute_result",
     "data": {
      "text/plain": [
       "{'red': 1, 'blue': 2}"
      ]
     },
     "metadata": {},
     "execution_count": 25
    }
   ],
   "metadata": {}
  },
  {
   "cell_type": "markdown",
   "source": [
    "Câu 12"
   ],
   "metadata": {}
  },
  {
   "cell_type": "code",
   "execution_count": 26,
   "source": [
    "def sparse_add(vector_a, vector_b):\r\n",
    "  sum = vector_a.copy()\r\n",
    "  for key in vector_b:\r\n",
    "    if key in sum:\r\n",
    "      sum[key] = sum[key] + vector_b[key]\r\n",
    "    else:\r\n",
    "      sum[key] = vector_b[key]\r\n",
    "\r\n",
    "  return sum\r\n",
    "sparse_add({1: 3, 2: 3, 3: 4}, {2: 4, 3: 5, 4: 6})"
   ],
   "outputs": [
    {
     "output_type": "execute_result",
     "data": {
      "text/plain": [
       "{1: 3, 2: 7, 3: 9, 4: 6}"
      ]
     },
     "metadata": {},
     "execution_count": 26
    }
   ],
   "metadata": {}
  },
  {
   "cell_type": "code",
   "execution_count": 27,
   "source": [
    "def sparse_dot(vector_a, vector_b):\r\n",
    "    multiplication = 0\r\n",
    "    for key1 in vector_a:\r\n",
    "        if key1 in vector_b:\r\n",
    "            multiplication = multiplication + vector_a[key1] * vector_b[key1]\r\n",
    "    return multiplication\r\n",
    "sparse_dot({1: 3, 2: 3, 3: 4}, {2: 4, 3: 5, 4: 6})"
   ],
   "outputs": [
    {
     "output_type": "execute_result",
     "data": {
      "text/plain": [
       "32"
      ]
     },
     "metadata": {},
     "execution_count": 27
    }
   ],
   "metadata": {}
  }
 ],
 "metadata": {
  "orig_nbformat": 4,
  "language_info": {
   "name": "python",
   "version": "3.8.8",
   "mimetype": "text/x-python",
   "codemirror_mode": {
    "name": "ipython",
    "version": 3
   },
   "pygments_lexer": "ipython3",
   "nbconvert_exporter": "python",
   "file_extension": ".py"
  },
  "kernelspec": {
   "name": "python3",
   "display_name": "Python 3.8.8 64-bit ('base': conda)"
  },
  "interpreter": {
   "hash": "6edcd4e5c1451bef1a77fe6d1e23e782390f81ab75b829f27e49843af96263a2"
  }
 },
 "nbformat": 4,
 "nbformat_minor": 2
}